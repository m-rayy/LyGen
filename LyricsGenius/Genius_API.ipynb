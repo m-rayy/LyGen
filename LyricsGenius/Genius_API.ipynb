{
 "cells": [
  {
   "cell_type": "markdown",
   "metadata": {},
   "source": [
    "# LyricsGenius 1.5.2 demo"
   ]
  },
  {
   "cell_type": "markdown",
   "metadata": {},
   "source": [
    "Documentation: https://pypi.org/project/lyricsgenius/"
   ]
  },
  {
   "cell_type": "markdown",
   "metadata": {},
   "source": [
    "### Artist search & save:"
   ]
  },
  {
   "cell_type": "code",
   "execution_count": 2,
   "metadata": {},
   "outputs": [],
   "source": [
    "# Import the package:\n",
    "import lyricsgenius"
   ]
  },
  {
   "cell_type": "code",
   "execution_count": null,
   "metadata": {},
   "outputs": [
    {
     "name": "stdout",
     "output_type": "stream",
     "text": [
      "Searching for songs by Manowar...\n",
      "\n",
      "Song 1: \"Achilles, Agony And Ecstasy In Eight Parts\"\n",
      "Song 2: \"All Men Play On 10\"\n",
      "Song 3: \"All Men Play On Ten\"\n",
      "Song 4: \"An American Trilogy\"\n",
      "Song 5: \"Animals\"\n",
      "Song 6: \"Annihilation\"\n",
      "Song 7: \"Apa (Father - Hungarian Version)\"\n",
      "Song 8: \"Army Of Immortals\"\n",
      "Song 9: \"Army Of The Dead\"\n",
      "Song 10: \"Army of the Dead, Part I\"\n",
      "Song 11: \"Army of the Dead, Part II\"\n",
      "Song 12: \"Army of the Immortals\"\n",
      "Song 13: \"A Warrior’s Prayer MMXIV\"\n",
      "Song 14: \"Baba (Father - Turkish Version)\"\n",
      "Song 15: \"Battle Hymn\"\n",
      "Song 16: \"Black Arrows\"\n",
      "Song 17: \"Black List\"\n",
      "Song 18: \"Black Wind, Fire and Steel\"\n",
      "Song 19: \"Blood And Steel\"\n",
      "Song 20: \"Blood Brothers\"\n",
      "Song 21: \"Blood of My Enemies\"\n",
      "Song 22: \"Blood of the Kings\"\n",
      "Song 23: \"Blow Your Speakers\"\n",
      "Song 24: \"Born in a Grave\"\n",
      "Song 25: \"Bridge of Death\"\n",
      "Song 26: \"Brothers of Metal\"\n",
      "Song 27: \"Brothers of Metal, Part 1\"\n",
      "Song 28: \"Burning\"\n",
      "Song 29: \"Call to Arms\"\n",
      "Song 30: \"Carry On\"\n",
      "Song 31: \"Courage\"\n",
      "Song 32: \"Dark Avenger\"\n",
      "Song 33: \"Death Tone\"\n",
      "Song 34: \"Defender\"\n",
      "Song 35: \"Die For Metal\"\n",
      "Song 36: \"Die With Honor\"\n",
      "Song 37: \"Drums Of Doom\"\n",
      "Song 38: \"Each Dawn I Die\"\n",
      "Song 39: \"El Gringo\"\n",
      "Song 40: \"Expendable\"\n",
      "Song 41: \"Far (Father - Norwegian Version)\"\n",
      "Song 42: \"Fast Taker\"\n",
      "Song 43: \"Father\"\n",
      "Song 44: \"Fighting the World\"\n",
      "Song 45: \"Fight Until We Die\"\n",
      "Song 46: \"Gates of Valhalla\"\n",
      "Song 47: \"Glory Majesty Unity\"\n",
      "Song 48: \"Gloves of Metal\"\n",
      "Song 49: \"God Or Man\"\n",
      "Song 50: \"Gods Of War\"\n",
      "Song 51: \"Gods of War (Immortal Version)\"\n",
      "Song 52: \"Guyana (Cult Of The Damned)\"\n",
      "Song 53: \"Guyana (The Cult of the Damned)\"\n",
      "Song 54: \"Hail and Kill\"\n",
      "Song 55: \"Hail and Kill MMXIV\"\n",
      "\"Hail and Kill MMXIV [Instrumental]\" is not valid. Skipping.\n",
      "Song 56: \"Hail, Kill and Die\"\n",
      "Song 57: \"Hail to England\"\n",
      "Song 58: \"Hand of Doom\"\n",
      "Song 59: \"Hatred\"\n",
      "Song 60: \"Heart of Steel\"\n",
      "Song 61: \"Herz Aus Stahl\"\n",
      "Song 62: \"Holy War\"\n",
      "Song 63: \"House of Death\"\n",
      "Song 64: \"Hymn of the Immortal Warriors\"\n",
      "Song 65: \"I Believe\"\n",
      "Song 66: \"Isä (Father - Finnish Version)\"\n",
      "Song 67: \"Kill with Power\"\n",
      "Song 68: \"King\"\n",
      "Song 69: \"Kingdom Come\"\n",
      "Song 70: \"King of Kings\"\n",
      "Song 71: \"King of Kings (live)\"\n",
      "Song 72: \"Kings of Metal\"\n",
      "Song 73: \"Kings of Metal MMXIV\"\n",
      "\"Kings of Metal MMXIV [Instrumental]\" is not valid. Skipping.\n",
      "Song 74: \"Let The Gods decide\"\n",
      "Song 75: \"Loki God Of Fire\"\n",
      "Song 76: \"Manowar\"\n",
      "Song 77: \"Manowar - live\"\n",
      "Song 78: \"Manowarriors\"\n",
      "Song 79: \"March For Revenge\"\n",
      "Song 80: \"March for Revenge (By the Soldiers of Death)\"\n",
      "Song 81: \"March of the Heroes into Valhalla\"\n",
      "Song 82: \"Master of Revenge\"\n",
      "Song 83: \"Master of the Wind\"\n",
      "Song 84: \"Metal Daze\"\n",
      "Song 85: \"Metal Warriors\"\n",
      "Song 86: \"Mon Père (Father - French Version)\"\n",
      "Song 87: \"Mountains\"\n",
      "Song 88: \"My Spirit Lives On\"\n",
      "Song 89: \"Nessun Dorma\"\n",
      "Song 90: \"Number 1\"\n",
      "Song 91: \"Odin\"\n",
      "Song 92: \"Odin (Immortal Version)\"\n",
      "Song 93: \"Ojciec (Father - Polish Version)\"\n",
      "Song 94: \"On Wheels of Fire MMXIV\"\n",
      "\"On Wheels of Fire MMXIV [Instrumental]\" is not valid. Skipping.\n",
      "Song 95: \"Otac (Father - Croatian Version)\"\n",
      "Song 96: \"Outlaw\"\n",
      "Song 97: \"Overture To Odin\"\n",
      "Song 98: \"Overture To The Hymn Of The Immortal Warriors\"\n",
      "Song 99: \"Padre (Father - Italian Version)\"\n"
     ]
    }
   ],
   "source": [
    "# Search for songs by a given artist:\n",
    "genius = lyricsgenius.Genius(\"#my_client_access_token_here\") \n",
    "artist = genius.search_artist(\"Manowar\", max_songs=999, sort=\"title\")\n",
    "print(artist.songs)"
   ]
  },
  {
   "cell_type": "code",
   "execution_count": 7,
   "metadata": {},
   "outputs": [
    {
     "name": "stdout",
     "output_type": "stream",
     "text": [
      "Wrote Alexander All Alone to lyrics_andyshauf_alexanderallalone.json.\n",
      "Wrote All the Same to lyrics_andyshauf_allthesame.json.\n",
      "Wrote Angela to lyrics_andyshauf_angela.json.\n",
      "Wrote To You to lyrics_andyshauf_toyou.json.\n"
     ]
    }
   ],
   "source": [
    "# Save the artist's songs to a JSON file:\n",
    "artist.save_lyrics()"
   ]
  },
  {
   "cell_type": "markdown",
   "metadata": {},
   "source": [
    "### Stand-alone searches:"
   ]
  },
  {
   "cell_type": "code",
   "execution_count": 10,
   "metadata": {},
   "outputs": [
    {
     "name": "stdout",
     "output_type": "stream",
     "text": [
      "Searching for \"Hail and Kill\" by Manowar...\n",
      "Done.\n",
      "Brothers, I am calling\n",
      "From the valley of the kings\n",
      "With nothing to atone\n",
      "A dark march lies ahead\n",
      "Together we will ride like thunder from the sky\n",
      "May your sword stay wet\n",
      "Like a young girl in her prime\n",
      "Hold your hammers high\n",
      "\n",
      "Blood and death are waiting\n",
      "Like a raven in the sky\n",
      "I was born to die\n",
      "Hear me while I live\n",
      "Now as I look into your eyes\n",
      "None shall hear a lie\n",
      "Now, power and dominion are taken by the will\n",
      "By divine right, hail and kill\n",
      "\n",
      "Hail, hail, hail and kill, hail and kill\n",
      "Hail, hail, hail and kill, hail and kill\n",
      "\n",
      "My father was a wolf\n",
      "I'm the kinsman of the slain\n",
      "Sworn to rise again\n",
      "Now I will bring salvation\n",
      "Punishment and pain\n",
      "The hammer of hate is our faith\n",
      "Power and dominion are taken by the will\n",
      "By divine right, hail and kill\n",
      "\n",
      "Hail, hail, hail and kill, hail and kill\n",
      "Hail, hail, hail and kill, hail and kill\n",
      "\n",
      "Hail, hail, hail and kill\n",
      "Hail, hail, hail and kill\n",
      "Hail, hail, hail and kill\n",
      "Hail, hail, hail and kill\n",
      "\n",
      "Hail, hail, hail and kill\n",
      "Hail, hail, hail and kill\n",
      "Hail, hail, hail and kill\n",
      "Hail, hail, hail and kill\n",
      "Hail, hail, hail and kill\n",
      "\n",
      "Rip their flesh, burn their hearts\n",
      "Stab them in the eyes\n",
      "Rape their women as they cry\n",
      "Kill their servants, burn their homes\n",
      "Kill till there's no blood left to spill\n",
      "Hail and kill\n",
      "Power and dominion are taken by the will\n",
      "By divine right, hail and kill\n",
      "\n",
      "Hail, hail, hail and kill, hail and kill\n",
      "Hail, hail, hail and kill, hail and kill\n",
      "Hail, hail, hail and kill, hail and kill\n",
      "Hail and kill\n",
      "Hail, hail, hail and kill, hail and kill\n",
      "Hail, hail, hail and kill, hail and kill\n",
      "\n",
      "Hail, hail, hail and kill, hail and kill\n",
      "Hail and kill\n"
     ]
    }
   ],
   "source": [
    "# Search for a single song by the same artist:\n",
    "song = genius.search_song(\"Hail and Kill\", artist.name)\n",
    "print(song.lyrics)"
   ]
  }
 ],
 "metadata": {
  "kernelspec": {
   "display_name": "Python 3",
   "language": "python",
   "name": "python3"
  },
  "language_info": {
   "codemirror_mode": {
    "name": "ipython",
    "version": 3
   },
   "file_extension": ".py",
   "mimetype": "text/x-python",
   "name": "python",
   "nbconvert_exporter": "python",
   "pygments_lexer": "ipython3",
   "version": "3.6.8"
  }
 },
 "nbformat": 4,
 "nbformat_minor": 2
}
